{
 "cells": [
  {
   "cell_type": "code",
   "execution_count": 1,
   "id": "efficient-spice",
   "metadata": {},
   "outputs": [],
   "source": [
    "import matplotlib.pyplot as plt\n",
    "import numpy as np\n",
    "import tensorflow as tf\n",
    "import tensorflow.compat.v1 as tf1\n",
    "\n",
    "%matplotlib inline"
   ]
  },
  {
   "cell_type": "code",
   "execution_count": 6,
   "id": "loose-neutral",
   "metadata": {},
   "outputs": [],
   "source": [
    "tf1.disable_eager_execution()"
   ]
  },
  {
   "cell_type": "code",
   "execution_count": 3,
   "id": "sudden-precipitation",
   "metadata": {},
   "outputs": [],
   "source": [
    "x_label0 = np.random.normal(5, 1, 10)\n",
    "x_label1 = np.random.normal(2, 1, 10)\n",
    "\n",
    "xs = np.append(x_label0, x_label1)\n",
    "labels = [0.] * len(x_label0) + [1.] * len(x_label1)"
   ]
  },
  {
   "cell_type": "code",
   "execution_count": 4,
   "id": "governmental-dryer",
   "metadata": {},
   "outputs": [
    {
     "data": {
      "image/png": "[encoded data removed]",
      "text/plain": [
       "<Figure size 720x288 with 1 Axes>"
      ]
     },
     "metadata": {
      "needs_background": "light"
     },
     "output_type": "display_data"
    }
   ],
   "source": [
    "plt.figure(figsize = (10, 4))\n",
    "plt.scatter(xs, labels)\n",
    "plt.tight_layout()\n",
    "plt.show()"
   ]
  },
  {
   "cell_type": "code",
   "execution_count": 7,
   "id": "recorded-produce",
   "metadata": {},
   "outputs": [],
   "source": [
    "learning_rate = 0.001\n",
    "training_epochs = 1000\n",
    "\n",
    "X = tf1.placeholder('float')\n",
    "Y = tf1.placeholder('float')"
   ]
  },
  {
   "cell_type": "code",
   "execution_count": 8,
   "id": "voluntary-damages",
   "metadata": {},
   "outputs": [],
   "source": [
    "w = tf.Variable([0., 0.], name = 'parameters')"
   ]
  },
  {
   "cell_type": "code",
   "execution_count": 9,
   "id": "tender-memorabilia",
   "metadata": {},
   "outputs": [],
   "source": [
    "def model(x, w):\n",
    "    return tf1.add(tf1.multiply(w[1], tf1.pow(x, 1)),\n",
    "                  tf1.multiply(w[0], tf1.pow(x, 0)))"
   ]
  },
  {
   "cell_type": "code",
   "execution_count": 10,
   "id": "efficient-lighter",
   "metadata": {},
   "outputs": [],
   "source": [
    "y_model = model(X, w)"
   ]
  },
  {
   "cell_type": "code",
   "execution_count": 11,
   "id": "continuing-massachusetts",
   "metadata": {},
   "outputs": [],
   "source": [
    "cost = tf1.reduce_sum(tf1.square(Y - y_model))"
   ]
  },
  {
   "cell_type": "code",
   "execution_count": 12,
   "id": "wired-engine",
   "metadata": {},
   "outputs": [],
   "source": [
    "train_op = tf1.train.GradientDescentOptimizer(learning_rate).minimize(cost)"
   ]
  },
  {
   "cell_type": "code",
   "execution_count": 15,
   "id": "institutional-uzbekistan",
   "metadata": {},
   "outputs": [],
   "source": [
    "correct_prediction = tf1.equal(Y, tf1.to_float(tf1.greater(y_model, 0.5)))\n",
    "accuracy = tf1.reduce_mean(tf1.to_float(correct_prediction))"
   ]
  },
  {
   "cell_type": "code",
   "execution_count": 16,
   "id": "automatic-revolution",
   "metadata": {},
   "outputs": [],
   "source": [
    "sess = tf1.Session()\n",
    "init = tf1.global_variables_initializer()\n",
    "sess.run(init)"
   ]
  },
  {
   "cell_type": "code",
   "execution_count": 17,
   "id": "classical-disclosure",
   "metadata": {},
   "outputs": [
    {
     "name": "stdout",
     "output_type": "stream",
     "text": [
      "0 8.827092\n",
      "100 2.69626\n",
      "200 1.7022903\n",
      "300 1.5346376\n",
      "400 1.5063598\n",
      "500 1.5015904\n",
      "600 1.5007856\n",
      "700 1.50065\n",
      "800 1.500627\n",
      "900 1.5006232\n"
     ]
    }
   ],
   "source": [
    "for epoch in range(training_epochs):\n",
    "    sess.run(train_op, feed_dict = {X:xs, Y:labels})\n",
    "    current_cost = sess.run(cost, feed_dict = {X:xs, Y:labels})\n",
    "    if epoch %100 == 0:\n",
    "        print(epoch, current_cost)"
   ]
  },
  {
   "cell_type": "code",
   "execution_count": 18,
   "id": "accurate-election",
   "metadata": {},
   "outputs": [
    {
     "name": "stdout",
     "output_type": "stream",
     "text": [
      "Learned parameters:  [ 1.2560061  -0.23550707]\n"
     ]
    }
   ],
   "source": [
    "w_val = sess.run(w)\n",
    "print(\"Learned parameters: \", w_val)"
   ]
  },
  {
   "cell_type": "code",
   "execution_count": 19,
   "id": "informed-amino",
   "metadata": {},
   "outputs": [
    {
     "name": "stdout",
     "output_type": "stream",
     "text": [
      "Accuracy 0.9\n"
     ]
    }
   ],
   "source": [
    "print('Accuracy', sess.run(accuracy, feed_dict = {X:xs, Y:labels}))\n",
    "sess.close()"
   ]
  },
  {
   "cell_type": "code",
   "execution_count": 21,
   "id": "advisory-sheriff",
   "metadata": {},
   "outputs": [
    {
     "data": {
      "image/png": "[encoded data removed]",
      "text/plain": [
       "<Figure size 720x288 with 1 Axes>"
      ]
     },
     "metadata": {
      "needs_background": "light"
     },
     "output_type": "display_data"
    }
   ],
   "source": [
    "all_xs = np.linspace(0, 10, 100)\n",
    "plt.figure(figsize = (10, 4))\n",
    "plt.plot(all_xs, all_xs * w_val[1] + w_val[0])\n",
    "plt.scatter(xs, labels)\n",
    "plt.tight_layout()\n",
    "plt.show()"
   ]
  },
  {
   "cell_type": "code",
   "execution_count": null,
   "id": "lovely-bikini",
   "metadata": {},
   "outputs": [],
   "source": []
  }
 ],
 "metadata": {
  "kernelspec": {
   "display_name": "Python 3",
   "language": "python",
   "name": "python3"
  },
  "language_info": {
   "codemirror_mode": {
    "name": "ipython",
    "version": 3
   },
   "file_extension": ".py",
   "mimetype": "text/x-python",
   "name": "python",
   "nbconvert_exporter": "python",
   "pygments_lexer": "ipython3",
   "version": "3.7.10"
  }
 },
 "nbformat": 4,
 "nbformat_minor": 5
}
