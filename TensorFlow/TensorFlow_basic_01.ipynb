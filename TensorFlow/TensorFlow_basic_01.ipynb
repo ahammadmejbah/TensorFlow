{
 "cells": [
  {
   "cell_type": "code",
   "execution_count": 1,
   "id": "located-defeat",
   "metadata": {},
   "outputs": [],
   "source": [
    "import tensorflow as tf\n",
    "import numpy as np"
   ]
  },
  {
   "cell_type": "code",
   "execution_count": 2,
   "id": "communist-barcelona",
   "metadata": {},
   "outputs": [],
   "source": [
    "m1 = [[1.0, 2.0],\n",
    "     [3.0, 4.0]]\n",
    "\n",
    "m2 = np.array([[1.0, 2.0],\n",
    "              [3.0, 4.0]], dtype = np.float32)\n",
    "\n",
    "m3 = tf.constant([[1.0, 2.0],\n",
    "                 [3.0, 4.0]])"
   ]
  },
  {
   "cell_type": "code",
   "execution_count": 3,
   "id": "verified-channel",
   "metadata": {},
   "outputs": [
    {
     "name": "stdout",
     "output_type": "stream",
     "text": [
      "<class 'list'>\n",
      "<class 'numpy.ndarray'>\n",
      "<class 'tensorflow.python.framework.ops.EagerTensor'>\n"
     ]
    }
   ],
   "source": [
    "print(type(m1))\n",
    "print(type(m2))\n",
    "print(type(m3))"
   ]
  },
  {
   "cell_type": "code",
   "execution_count": 4,
   "id": "fatal-flexibility",
   "metadata": {},
   "outputs": [],
   "source": [
    "t1 = tf.convert_to_tensor(m1, dtype = tf.float32)\n",
    "t2 = tf.convert_to_tensor(m2, dtype = tf.float32)\n",
    "t3 = tf.convert_to_tensor(m3, dtype = tf.float32)"
   ]
  },
  {
   "cell_type": "code",
   "execution_count": 5,
   "id": "adjustable-producer",
   "metadata": {},
   "outputs": [
    {
     "name": "stdout",
     "output_type": "stream",
     "text": [
      "<class 'tensorflow.python.framework.ops.EagerTensor'>\n",
      "<class 'tensorflow.python.framework.ops.EagerTensor'>\n",
      "<class 'tensorflow.python.framework.ops.EagerTensor'>\n"
     ]
    }
   ],
   "source": [
    "print(type(t1))\n",
    "print(type(t2))\n",
    "print(type(t3))"
   ]
  },
  {
   "cell_type": "code",
   "execution_count": 6,
   "id": "timely-sample",
   "metadata": {},
   "outputs": [
    {
     "name": "stdout",
     "output_type": "stream",
     "text": [
      "tf.Tensor([[2 4]], shape=(1, 2), dtype=int32)\n",
      "\n",
      "<class 'tensorflow.python.framework.ops.EagerTensor'>\n"
     ]
    }
   ],
   "source": [
    "x = tf.constant([[2, 4]])\n",
    "print(x)\n",
    "print()\n",
    "print(type(x))"
   ]
  },
  {
   "cell_type": "code",
   "execution_count": 7,
   "id": "closing-bangkok",
   "metadata": {},
   "outputs": [
    {
     "name": "stdout",
     "output_type": "stream",
     "text": [
      "tf.Tensor([[-2 -4]], shape=(1, 2), dtype=int32)\n",
      "\n",
      "<class 'tensorflow.python.framework.ops.EagerTensor'>\n"
     ]
    }
   ],
   "source": [
    "negative = tf.negative(x)\n",
    "print(negative)\n",
    "print()\n",
    "print(type(negative))"
   ]
  },
  {
   "cell_type": "markdown",
   "id": "consistent-charter",
   "metadata": {},
   "source": [
    "### TensorFlow Interactive Session"
   ]
  },
  {
   "cell_type": "code",
   "execution_count": 10,
   "id": "protective-detective",
   "metadata": {},
   "outputs": [],
   "source": [
    "sess = tf.compat.v1.InteractiveSession()"
   ]
  },
  {
   "cell_type": "code",
   "execution_count": 11,
   "id": "persistent-sitting",
   "metadata": {},
   "outputs": [],
   "source": [
    "x= tf.constant([[2.0, 3.0]])"
   ]
  },
  {
   "cell_type": "code",
   "execution_count": 12,
   "id": "departmental-trance",
   "metadata": {},
   "outputs": [],
   "source": [
    "negative_x = tf.negative(x)"
   ]
  },
  {
   "cell_type": "code",
   "execution_count": 15,
   "id": "second-arrival",
   "metadata": {},
   "outputs": [],
   "source": [
    "# results = negative_x.eval()  \n",
    "# Error ---> NotImplementedError: eval is not supported when eager execution is enabled, is .numpy() what you're looking for?"
   ]
  },
  {
   "cell_type": "code",
   "execution_count": null,
   "id": "plain-valley",
   "metadata": {},
   "outputs": [],
   "source": []
  }
 ],
 "metadata": {
  "kernelspec": {
   "display_name": "Python 3",
   "language": "python",
   "name": "python3"
  },
  "language_info": {
   "codemirror_mode": {
    "name": "ipython",
    "version": 3
   },
   "file_extension": ".py",
   "mimetype": "text/x-python",
   "name": "python",
   "nbconvert_exporter": "python",
   "pygments_lexer": "ipython3",
   "version": "3.7.10"
  }
 },
 "nbformat": 4,
 "nbformat_minor": 5
}
