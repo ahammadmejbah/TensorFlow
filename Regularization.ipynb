{
 "cells": [
  {
   "cell_type": "code",
   "execution_count": 1,
   "id": "phantom-monkey",
   "metadata": {},
   "outputs": [],
   "source": [
    "import tensorflow as tf\n",
    "import numpy as np\n",
    "import matplotlib.pyplot as plt\n",
    "\n",
    "np.random.seed(42)\n",
    "%matplotlib inline"
   ]
  },
  {
   "cell_type": "code",
   "execution_count": 19,
   "id": "internal-treatment",
   "metadata": {},
   "outputs": [],
   "source": [
    "tf.compat.v1.disable_eager_execution()"
   ]
  },
  {
   "cell_type": "code",
   "execution_count": 2,
   "id": "amended-salem",
   "metadata": {},
   "outputs": [],
   "source": [
    "learning_rate = 0.001\n",
    "training_epochs = 1000\n",
    "reg_lambda = 0."
   ]
  },
  {
   "cell_type": "markdown",
   "id": "interim-savage",
   "metadata": {},
   "source": [
    "### Spliting Datasets"
   ]
  },
  {
   "cell_type": "code",
   "execution_count": 14,
   "id": "excessive-parker",
   "metadata": {},
   "outputs": [],
   "source": [
    "def split_dataset(x_datasets, y_datasets, ratio):\n",
    "    arr = np.arange(x_datasets.size)\n",
    "    \n",
    "    np.random.shuffle(arr)\n",
    "    \n",
    "    num_train = int(ratio * x_datasets.size)\n",
    "    x_train = x_dataset[arr[0:num_train]]\n",
    "    y_train = x_dataset[arr[0:num_train]]\n",
    "    \n",
    "    x_test = x_dataset[arr[num_train:x_dataset.size]]\n",
    "    y_test = x_dataset[arr[num_train:x_dataset.size]]\n",
    "    \n",
    "    return x_train,x_test, y_train, y_test"
   ]
  },
  {
   "cell_type": "code",
   "execution_count": 15,
   "id": "global-window",
   "metadata": {},
   "outputs": [],
   "source": [
    "x_dataset = np.linspace(-1, 1, 100)\n",
    "num_coeffs = 9\n",
    "y_dataset_params = [0.] * num_coeffs\n",
    "y_dataset_params[2]  = 1\n",
    "y_dataset = 0"
   ]
  },
  {
   "cell_type": "code",
   "execution_count": 16,
   "id": "resident-northern",
   "metadata": {},
   "outputs": [],
   "source": [
    "for i in range(num_coeffs):\n",
    "    y_dataset + y_dataset_params[i] * np.power(x_dataset, i)\n",
    "    \n",
    "y_dataset += np.random.randn(*x_dataset.shape) * 0.3"
   ]
  },
  {
   "cell_type": "code",
   "execution_count": 17,
   "id": "emerging-failure",
   "metadata": {},
   "outputs": [],
   "source": [
    "(x_train, x_test, y_train, y_test) = split_dataset(x_dataset, y_dataset, 0.7)"
   ]
  },
  {
   "cell_type": "code",
   "execution_count": 20,
   "id": "coastal-macedonia",
   "metadata": {},
   "outputs": [],
   "source": [
    "X = tf.compat.v1.placeholder('float32')\n",
    "Y = tf.compat.v1.placeholder('float32')"
   ]
  },
  {
   "cell_type": "code",
   "execution_count": 21,
   "id": "charged-approach",
   "metadata": {},
   "outputs": [],
   "source": [
    "def model(x, w):\n",
    "    terms = []\n",
    "    for i in range(num_coeffs):\n",
    "        term = tf.multiply(w[i], tf.pow(x, i))\n",
    "        terms.append(term)\n",
    "    return tf.add_n(terms)"
   ]
  },
  {
   "cell_type": "code",
   "execution_count": 28,
   "id": "accompanied-delhi",
   "metadata": {},
   "outputs": [],
   "source": [
    "w = tf.Variable([0.] * num_coeffs, name = 'parameters')\n",
    "y_model = model(X, w)"
   ]
  },
  {
   "cell_type": "code",
   "execution_count": 29,
   "id": "tested-container",
   "metadata": {},
   "outputs": [],
   "source": [
    "import tensorflow.compat.v1 as tf1"
   ]
  },
  {
   "cell_type": "code",
   "execution_count": 31,
   "id": "given-devon",
   "metadata": {},
   "outputs": [],
   "source": [
    "cost = tf1.divide(tf1.add(tf1.reduce_sum(tf1.square(Y-y_model)),\n",
    "                      tf1.multiply(reg_lambda, tf1.reduce_sum(tf1.square(w)))),\n",
    "              2*x_train.size)"
   ]
  },
  {
   "cell_type": "code",
   "execution_count": 33,
   "id": "representative-fitting",
   "metadata": {},
   "outputs": [],
   "source": [
    "train_op = tf1.train.GradientDescentOptimizer(learning_rate).minimize(cost)"
   ]
  },
  {
   "cell_type": "code",
   "execution_count": 32,
   "id": "conscious-exhibit",
   "metadata": {},
   "outputs": [],
   "source": [
    "sess = tf1.Session()\n",
    "init = tf1.global_variables_initializer()\n",
    "sess.run(init)"
   ]
  },
  {
   "cell_type": "code",
   "execution_count": 34,
   "id": "computational-assumption",
   "metadata": {},
   "outputs": [],
   "source": [
    "reg_lambads =[]\n",
    "final_costs = []\n",
    "\n",
    "for reg_lambda in np.linspace(0, 1, 100):\n",
    "    for epoch in range(training_epochs):\n",
    "        sess.run(train_op, feed_dict = {X:x_train, Y:y_train})\n",
    "        \n",
    "    final_cost = sess.run(cost, feed_dict = {X:x_test, Y:y_test})\n",
    "    reg_lambads.append(reg_lambda)\n",
    "    final_costs.append(final_cost)"
   ]
  },
  {
   "cell_type": "code",
   "execution_count": 38,
   "id": "significant-communist",
   "metadata": {},
   "outputs": [
    {
     "name": "stdout",
     "output_type": "stream",
     "text": [
      "\n",
      "reg lambda:  [0.0, 0.010101010101010102, 0.020202020202020204, 0.030303030303030304, 0.04040404040404041, 0.05050505050505051, 0.06060606060606061, 0.07070707070707072, 0.08080808080808081, 0.09090909090909091, 0.10101010101010102, 0.11111111111111112, 0.12121212121212122, 0.13131313131313133, 0.14141414141414144, 0.15151515151515152, 0.16161616161616163, 0.17171717171717174, 0.18181818181818182, 0.19191919191919193, 0.20202020202020204, 0.21212121212121213, 0.22222222222222224, 0.23232323232323235, 0.24242424242424243, 0.25252525252525254, 0.26262626262626265, 0.27272727272727276, 0.2828282828282829, 0.29292929292929293, 0.30303030303030304, 0.31313131313131315, 0.32323232323232326, 0.33333333333333337, 0.3434343434343435, 0.3535353535353536, 0.36363636363636365, 0.37373737373737376, 0.38383838383838387, 0.393939393939394, 0.4040404040404041, 0.4141414141414142, 0.42424242424242425, 0.43434343434343436, 0.4444444444444445, 0.4545454545454546, 0.4646464646464647, 0.4747474747474748, 0.48484848484848486, 0.494949494949495, 0.5050505050505051, 0.5151515151515152, 0.5252525252525253, 0.5353535353535354, 0.5454545454545455, 0.5555555555555556, 0.5656565656565657, 0.5757575757575758, 0.5858585858585859, 0.595959595959596, 0.6060606060606061, 0.6161616161616162, 0.6262626262626263, 0.6363636363636365, 0.6464646464646465, 0.6565656565656566, 0.6666666666666667, 0.6767676767676768, 0.686868686868687, 0.696969696969697, 0.7070707070707072, 0.7171717171717172, 0.7272727272727273, 0.7373737373737375, 0.7474747474747475, 0.7575757575757577, 0.7676767676767677, 0.7777777777777778, 0.787878787878788, 0.797979797979798, 0.8080808080808082, 0.8181818181818182, 0.8282828282828284, 0.8383838383838385, 0.8484848484848485, 0.8585858585858587, 0.8686868686868687, 0.8787878787878789, 0.888888888888889, 0.8989898989898991, 0.9090909090909092, 0.9191919191919192, 0.9292929292929294, 0.9393939393939394, 0.9494949494949496, 0.9595959595959597, 0.9696969696969697, 0.9797979797979799, 0.98989898989899, 1.0]\n",
      "\n",
      "\n",
      "\n",
      "Final Costs :  [0.0282486, 0.011293631, 0.0055698557, 0.003548265, 0.0027401478, 0.0023338923, 0.0020676642, 0.0018574485, 0.0016760626, 0.0015142888, 0.0013684892, 0.0012367878, 0.0011178188, 0.0010104171, 0.00091352593, 0.00082616304, 0.000747424, 0.0006764748, 0.00061256223, 0.0005549887, 0.0005031292, 0.0004564133, 0.0004143311, 0.00037641666, 0.00034225266, 0.000311461, 0.0002837031, 0.00025867386, 0.00023610052, 0.0002157343, 0.00019735315, 0.00018075823, 0.0001657726, 0.00015223159, 0.00013999312, 0.0001289262, 0.00011891504, 0.00010985357, 0.00010164814, 9.42139e-05, 8.747529e-05, 8.136315e-05, 7.58165e-05, 7.077978e-05, 6.620235e-05, 6.204206e-05, 5.825593e-05, 5.480856e-05, 5.166898e-05, 4.880579e-05, 4.6192876e-05, 4.380788e-05, 4.162832e-05, 3.963372e-05, 3.7809274e-05, 3.6135945e-05, 3.460352e-05, 3.319565e-05, 3.1902815e-05, 3.0714127e-05, 2.9619185e-05, 2.8610852e-05, 2.7681363e-05, 2.6822194e-05, 2.6028249e-05, 2.5296671e-05, 2.4614705e-05, 2.3987144e-05, 2.3398901e-05, 2.2857797e-05, 2.2349517e-05, 2.1878033e-05, 2.144317e-05, 2.102883e-05, 2.0647723e-05, 2.0287602e-05, 1.9948102e-05, 1.96355e-05, 1.9344907e-05, 1.9058247e-05, 1.8797242e-05, 1.8551265e-05, 1.8318387e-05, 1.8094948e-05, 1.7880828e-05, 1.768666e-05, 1.7503675e-05, 1.7328754e-05, 1.7157845e-05, 1.6987553e-05, 1.68318e-05, 1.6684073e-05, 1.6547438e-05, 1.6420625e-05, 1.6296704e-05, 1.6176407e-05, 1.6049768e-05, 1.5926884e-05, 1.5811722e-05, 1.5706322e-05]\n"
     ]
    }
   ],
   "source": [
    "print(\"\\nreg lambda: \", reg_lambads)\n",
    "print('\\n\\n')\n",
    "print(\"Final Costs : \", final_costs)"
   ]
  },
  {
   "cell_type": "code",
   "execution_count": 39,
   "id": "rolled-title",
   "metadata": {},
   "outputs": [],
   "source": [
    "sess.close()"
   ]
  },
  {
   "cell_type": "code",
   "execution_count": null,
   "id": "fixed-scottish",
   "metadata": {},
   "outputs": [],
   "source": []
  }
 ],
 "metadata": {
  "kernelspec": {
   "display_name": "Python 3",
   "language": "python",
   "name": "python3"
  },
  "language_info": {
   "codemirror_mode": {
    "name": "ipython",
    "version": 3
   },
   "file_extension": ".py",
   "mimetype": "text/x-python",
   "name": "python",
   "nbconvert_exporter": "python",
   "pygments_lexer": "ipython3",
   "version": "3.7.10"
  }
 },
 "nbformat": 4,
 "nbformat_minor": 5
}
